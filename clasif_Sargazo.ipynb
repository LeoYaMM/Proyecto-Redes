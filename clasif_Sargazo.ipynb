{
 "cells": [
  {
   "cell_type": "code",
   "execution_count": 1,
   "metadata": {},
   "outputs": [],
   "source": [
    "import os\n",
    "import pandas as pd\n",
    "from PIL import Image\n",
    "import torch\n",
    "import torch.nn as nn\n",
    "import torch.optim as optim\n",
    "from torch.utils.data import Dataset, DataLoader\n",
    "from torchvision import models, transforms"
   ]
  },
  {
   "cell_type": "markdown",
   "metadata": {},
   "source": [
    "#===========================================\n",
    "# Definición del Dataset personalizado\n",
    "#==========================================="
   ]
  },
  {
   "cell_type": "code",
   "execution_count": 2,
   "metadata": {},
   "outputs": [],
   "source": [
    "class SargazoDataset(Dataset):\n",
    "    def __init__(self, csv_path, img_dir, transform=None):\n",
    "        self.data = pd.read_csv(csv_path)\n",
    "        self.img_dir = img_dir\n",
    "        self.transform = transform\n",
    "\n",
    "        self.label_to_idx = None\n",
    "\n",
    "        # Verificar si el CSV tiene más de una columna para crear el diccionario\n",
    "        if self.data.shape[1] > 1:  # Verifica si hay al menos dos columnas\n",
    "            self.label_to_idx = {label: idx for idx, label in enumerate(self.data.iloc[:, 1].unique())}\n",
    "\n",
    "    def __len__(self):\n",
    "        return len(self.data)\n",
    "\n",
    "    def __getitem__(self, idx):\n",
    "        img_name = os.path.join(self.img_dir, self.data.iloc[idx, 0])  # Primer columna: nombre de imagen\n",
    "        image = Image.open(img_name).convert('RGB')\n",
    "\n",
    "        if self.transform:\n",
    "            image = self.transform(image)\n",
    "\n",
    "        # Si hay más de una columna (entrenamiento), obtenemos el label\n",
    "        if self.label_to_idx is not None:\n",
    "            label = self.data.iloc[idx, 1]  # Segunda columna: etiqueta\n",
    "            label = torch.tensor(self.label_to_idx[label], dtype=torch.long)  # Convertimos a tensor\n",
    "            return image, label\n",
    "        else:\n",
    "            return image"
   ]
  },
  {
   "cell_type": "markdown",
   "metadata": {},
   "source": [
    "#===========================================\n",
    "# Configuración del dispositivo (CPU/GPU)\n",
    "#==========================================="
   ]
  },
  {
   "cell_type": "code",
   "execution_count": 3,
   "metadata": {},
   "outputs": [
    {
     "name": "stdout",
     "output_type": "stream",
     "text": [
      "Usando dispositivo: cuda\n"
     ]
    }
   ],
   "source": [
    "device = torch.device(\"cuda\" if torch.cuda.is_available() else \"cpu\")\n",
    "print(\"Usando dispositivo:\", device)"
   ]
  },
  {
   "cell_type": "markdown",
   "metadata": {},
   "source": [
    "#===========================================\n",
    "# Transformaciones para las imágenes\n",
    "#==========================================="
   ]
  },
  {
   "cell_type": "code",
   "execution_count": 4,
   "metadata": {},
   "outputs": [],
   "source": [
    "transform = transforms.Compose([\n",
    "    transforms.Resize((224, 224)),\n",
    "    transforms.ToTensor(),\n",
    "    transforms.Normalize([0.485, 0.456, 0.406],\n",
    "                         [0.229, 0.224, 0.225])\n",
    "])"
   ]
  },
  {
   "cell_type": "markdown",
   "metadata": {},
   "source": [
    "#===========================================\n",
    "# Cargar los datasets de entrenamiento y test\n",
    "#==========================================="
   ]
  },
  {
   "cell_type": "code",
   "execution_count": 9,
   "metadata": {},
   "outputs": [],
   "source": [
    "train_csv = \"clasifica-el-sargazo-24-b\\\\train_data.csv\"\n",
    "test_csv = \"clasifica-el-sargazo-24-b\\\\test_data.csv\"\n",
    "img_dir = \"clasifica-el-sargazo-24-b\\\\images_public\"\n",
    "\n",
    "\n",
    "train_dataset = SargazoDataset(csv_path=train_csv, img_dir=img_dir, transform=transform)\n",
    "test_dataset = SargazoDataset(csv_path=test_csv, img_dir=img_dir, transform=transform)\n",
    "\n",
    "train_loader = DataLoader(train_dataset, batch_size=32, shuffle=True)\n",
    "test_loader = DataLoader(test_dataset, batch_size=32, shuffle=False)\n",
    "\n",
    "N = 6  # Numero de clases [0, 1, 2, 3, 4, 5]"
   ]
  },
  {
   "cell_type": "markdown",
   "metadata": {},
   "source": [
    "#===========================================\n",
    "# Cargar el modelo GoogLeNet preentrenado\n",
    "#==========================================="
   ]
  },
  {
   "cell_type": "code",
   "execution_count": 10,
   "metadata": {},
   "outputs": [
    {
     "name": "stderr",
     "output_type": "stream",
     "text": [
      "C:\\Users\\yleob\\AppData\\Roaming\\Python\\Python312\\site-packages\\torchvision\\models\\_utils.py:223: UserWarning: Arguments other than a weight enum or `None` for 'weights' are deprecated since 0.13 and may be removed in the future. The current behavior is equivalent to passing `weights=GoogLeNet_Weights.IMAGENET1K_V1`. You can also use `weights=GoogLeNet_Weights.DEFAULT` to get the most up-to-date weights.\n",
      "  warnings.warn(msg)\n"
     ]
    }
   ],
   "source": [
    "googlenet = models.googlenet(weights=True)\n",
    "\n",
    "# Congelar capas base\n",
    "# for param in googlenet.parameters():\n",
    "#     param.requires_grad = False\n",
    "\n",
    "# Reemplazar la última capa para nuestra tarea + Dropout\n",
    "googlenet.fc = nn.Sequential(\n",
    "    # nn.Dropout(p=0.2),\n",
    "    nn.Linear(googlenet.fc.in_features, N)\n",
    ")\n",
    "\n",
    "googlenet = googlenet.to(device)"
   ]
  },
  {
   "cell_type": "markdown",
   "metadata": {},
   "source": [
    "#===========================================\n",
    "# Definir función de pérdida y optimizador\n",
    "# Ir testeando diferentes funciones de pérdida y número de épocas\n",
    "#==========================================="
   ]
  },
  {
   "cell_type": "code",
   "execution_count": 11,
   "metadata": {},
   "outputs": [],
   "source": [
    "criterion = nn.CrossEntropyLoss()\n",
    "optimizer = optim.Adam(googlenet.parameters(), lr=0.005)"
   ]
  },
  {
   "cell_type": "markdown",
   "metadata": {},
   "source": [
    "#===========================================\n",
    "# Entrenamiento\n",
    "#==========================================="
   ]
  },
  {
   "cell_type": "code",
   "execution_count": 12,
   "metadata": {},
   "outputs": [
    {
     "name": "stdout",
     "output_type": "stream",
     "text": [
      "Checkpoint cargado. Última época entrenada: 25\n",
      "Continuando entrenamiento desde la época 25\n",
      "Epoch 25/25, Loss: 0.7202747154545475\n",
      "Checkpoint guardado en la época 25\n"
     ]
    }
   ],
   "source": [
    "# Definir la ruta del checkpoint\n",
    "checkpoint_path = \"checkpoint.pth\"\n",
    "\n",
    "# Función para guardar el checkpoint\n",
    "def guardar_checkpoint(epoch, model, optimizer, loss, checkpoint_path):\n",
    "    torch.save({\n",
    "        'epoch': epoch,\n",
    "        'model_state_dict': model.state_dict(),\n",
    "        'optimizer_state_dict': optimizer.state_dict(),\n",
    "        'loss': loss,\n",
    "    }, checkpoint_path)\n",
    "    print(f\"Checkpoint guardado en la época {epoch + 1}\")\n",
    "\n",
    "# Función para cargar el checkpoint\n",
    "def cargar_checkpoint(model, optimizer, checkpoint_path):\n",
    "    checkpoint = torch.load(checkpoint_path)\n",
    "    model.load_state_dict(checkpoint['model_state_dict'])\n",
    "    optimizer.load_state_dict(checkpoint['optimizer_state_dict'])\n",
    "    epoch = checkpoint['epoch']\n",
    "    loss = checkpoint['loss']\n",
    "    print(f\"Checkpoint cargado. Última época entrenada: {epoch + 1}\")\n",
    "    return epoch, loss\n",
    "\n",
    "# Entrenamiento\n",
    "epochs_totales = 25  # Total de épocas que quieres entrenar\n",
    "# epochs_totales = 15  # Solo para prueba\n",
    "epoch_inicial = 0  # Valor por defecto si no se carga un checkpoint\n",
    "\n",
    "# Intenta cargar un checkpoint si existe\n",
    "try:\n",
    "    epoch_inicial, loss = cargar_checkpoint(googlenet, optimizer, checkpoint_path)\n",
    "    print(f\"Continuando entrenamiento desde la época {epoch_inicial + 1}\")\n",
    "except FileNotFoundError:\n",
    "    print(\"No se encontró un checkpoint. Entrenamiento iniciará desde el principio.\")\n",
    "\n",
    "# Comenzar el entrenamiento desde epoch_inicial\n",
    "googlenet.train()  # modo entrenamiento\n",
    "for epoch in range(epoch_inicial, epochs_totales):\n",
    "    running_loss = 0.0\n",
    "    for images, labels in train_loader:\n",
    "        images = images.to(device)\n",
    "        labels = labels.to(device)\n",
    "\n",
    "        optimizer.zero_grad()\n",
    "        outputs = googlenet(images)\n",
    "        loss = criterion(outputs, labels)\n",
    "        loss.backward()\n",
    "        optimizer.step()\n",
    "\n",
    "        running_loss += loss.item()\n",
    "\n",
    "    avg_loss = running_loss / len(train_loader)\n",
    "    print(f\"Epoch {epoch+1}/{epochs_totales}, Loss: {avg_loss}\")\n",
    "\n",
    "    # Guardar checkpoint al final de cada época\n",
    "    guardar_checkpoint(epoch, googlenet, optimizer, avg_loss, checkpoint_path)\n"
   ]
  },
  {
   "cell_type": "markdown",
   "metadata": {},
   "source": [
    "#===========================================\n",
    "# Evaluación en el conjunto de prueba\n",
    "#==========================================="
   ]
  },
  {
   "cell_type": "code",
   "execution_count": 13,
   "metadata": {},
   "outputs": [],
   "source": [
    "# Evaluar modelo y obtener predicciones\n",
    "googlenet.eval()  # Cambiar a modo evaluación\n",
    "googlenet = googlenet.to(device)\n",
    "\n",
    "predictions = []  # Lista para almacenar las predicciones\n",
    "\n",
    "with torch.no_grad():  # Desactiva cálculo de gradientes para inferencia\n",
    "    for images in test_loader:  \n",
    "        images = images.to(device)\n",
    "        outputs = googlenet(images)\n",
    "        _, predicted = torch.max(outputs.data, 1)  # Predicción como clase más probable\n",
    "        predictions.extend(predicted.cpu().numpy())  # Guardar predicciones\n"
   ]
  },
  {
   "cell_type": "code",
   "execution_count": 14,
   "metadata": {},
   "outputs": [
    {
     "name": "stdout",
     "output_type": "stream",
     "text": [
      "Predicciones guardadas en: test_data_with_predictions.csv\n"
     ]
    }
   ],
   "source": [
    "# Diccionario para mapear etiquetas numéricas a etiquetas textuales\n",
    "L = {1: \"nada\", 2: \"bajo\", 3: \"moderado\", 4: \"abundante\", 5: \"excesivo\"}\n",
    "\n",
    "# Ajustar predicciones: cambiar 0 -> 1 y mapear al texto correspondiente\n",
    "adjusted_predictions = [L.get(p if p > 0 else 1) for p in predictions]\n",
    "\n",
    "# Cargar el CSV original\n",
    "test_data = pd.read_csv(test_csv)\n",
    "\n",
    "# Agregar columna de predicciones\n",
    "test_data['Prediction'] = pd.Series(adjusted_predictions)\n",
    "\n",
    "# Guardar el CSV actualizado\n",
    "output_csv_path = \"test_data_with_predictions.csv\"\n",
    "test_data.to_csv(output_csv_path, index=False)\n",
    "\n",
    "print(f\"Predicciones guardadas en: {output_csv_path}\")"
   ]
  }
 ],
 "metadata": {
  "kernelspec": {
   "display_name": "Python 3",
   "language": "python",
   "name": "python3"
  },
  "language_info": {
   "codemirror_mode": {
    "name": "ipython",
    "version": 3
   },
   "file_extension": ".py",
   "mimetype": "text/x-python",
   "name": "python",
   "nbconvert_exporter": "python",
   "pygments_lexer": "ipython3",
   "version": "3.12.6"
  }
 },
 "nbformat": 4,
 "nbformat_minor": 2
}
